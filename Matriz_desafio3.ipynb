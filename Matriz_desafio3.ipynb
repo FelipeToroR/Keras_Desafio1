{
  "nbformat": 4,
  "nbformat_minor": 0,
  "metadata": {
    "colab": {
      "name": "Matriz_desafio3.ipynb",
      "provenance": [],
      "collapsed_sections": [],
      "toc_visible": true,
      "include_colab_link": true
    },
    "kernelspec": {
      "name": "python3",
      "display_name": "Python 3"
    },
    "language_info": {
      "name": "python"
    }
  },
  "cells": [
    {
      "cell_type": "markdown",
      "metadata": {
        "id": "view-in-github",
        "colab_type": "text"
      },
      "source": [
        "<a href=\"https://colab.research.google.com/github/FelipeToroR/MLP_Desafio3/blob/main/Matriz_desafio3.ipynb\" target=\"_parent\"><img src=\"https://colab.research.google.com/assets/colab-badge.svg\" alt=\"Open In Colab\"/></a>"
      ]
    },
    {
      "cell_type": "code",
      "execution_count": 1,
      "metadata": {
        "id": "aGgOedL5w9b5"
      },
      "outputs": [],
      "source": [
        "import numpy as np\n",
        "import pandas as pd\n",
        "import scipy as sc\n",
        "from keras.utils.np_utils import to_categorical\n",
        "import matplotlib.pyplot as plt"
      ]
    },
    {
      "cell_type": "code",
      "source": [
        "# Leer y guardar el dataset\n",
        "!git clone https://github.com/OptativoPUCV/Handwritten-letter-dataset\n",
        "!mkdir Datos-letras\n",
        "!7z x \"/content/Handwritten-letter-dataset/A_Z Handwritten Data.7z.001\" -tsplit\n",
        "!7z e \"/content/A_Z Handwritten Data.7z\"\n",
        "data = pd.read_csv('A_Z Handwritten Data.csv').astype('float32')"
      ],
      "metadata": {
        "id": "Iqu_u1trAtFc"
      },
      "execution_count": null,
      "outputs": []
    },
    {
      "cell_type": "markdown",
      "source": [
        "## **Se separan los datos en inputs(x) y labels(y) y luego se normalizan**"
      ],
      "metadata": {
        "id": "oC6872IJVxCU"
      }
    },
    {
      "cell_type": "code",
      "source": [
        "x1 = data.drop('0',axis = 1)  # x serán los datos de ENTRADA\n",
        "y1 = data['0']    # y representa el label o letra de SALIDA\n",
        "y1= y1[:,np.newaxis]\n",
        "\n",
        "# Normalizando datos\n",
        "X = x1.astype('float32') # <--- Entrada\n",
        "X /= 255\n",
        "\n",
        "num_classes = 26  # <--- Salida\n",
        "Y = to_categorical(y1, num_classes)"
      ],
      "metadata": {
        "id": "ik51N5Nh-_YV"
      },
      "execution_count": null,
      "outputs": []
    },
    {
      "cell_type": "markdown",
      "source": [
        "## **La función activación retorna el valor activado y valor derivado** "
      ],
      "metadata": {
        "id": "5CFMdoWGPh43"
      }
    },
    {
      "cell_type": "code",
      "source": [
        "def activation(x):\n",
        "  return ((1/(1+np.e**(-x))) , (x * (1-x)))"
      ],
      "metadata": {
        "id": "IMbPq7xr2010"
      },
      "execution_count": 5,
      "outputs": []
    },
    {
      "cell_type": "markdown",
      "source": [
        "## **Se crea la capa con su respectiva función de activación y sus pesos conectados con la capa anterior.**"
      ],
      "metadata": {
        "id": "EBXXSctbPQ_e"
      }
    },
    {
      "cell_type": "code",
      "source": [
        "class Capa():\n",
        "  def __init__(self, n_conexiones: int, n_neuronas: int, activation):\n",
        "    self.activation = activation\n",
        "    self.W = np.random.rand(n_conexiones, n_neuronas) * 2 - 1"
      ],
      "metadata": {
        "id": "USZeR9D51U47"
      },
      "execution_count": 6,
      "outputs": []
    },
    {
      "cell_type": "markdown",
      "source": [
        "# **Creación de la red**\n",
        "Se recibe la topología, es decir, un arreglo de capas la cual consiste en **[x, capas ocultas, y]** : <br> \n",
        "\n",
        "* x = neuronas de inputs\n",
        "* capas ocultas = desde 1 a ∞+\n",
        "* y = neuronas de outputs\n",
        "\n"
      ],
      "metadata": {
        "id": "dFHlecNbPwY2"
      }
    },
    {
      "cell_type": "code",
      "source": [
        "def crear_red(topologia: list, activation):\n",
        "  red = []\n",
        "  for l, capa in enumerate(topologia[:-1]):\n",
        "    red.append( Capa(topologia[l], topologia[l+1], activation) )\n",
        "  return red"
      ],
      "metadata": {
        "id": "kSPbssgy3lr2"
      },
      "execution_count": 7,
      "outputs": []
    },
    {
      "cell_type": "markdown",
      "source": [
        "# **Forward Propagation**"
      ],
      "metadata": {
        "id": "-q266gJfayW4"
      }
    },
    {
      "cell_type": "code",
      "source": [
        "def forward(red, X):\n",
        "  out = [(None, X)]\n",
        "  for l, capa in enumerate(red):\n",
        "    z = out[-1][1] @ red[l].W # Multiplicación de matrices\n",
        "    a = red[l].activation(z)[0] # La función de activación retorna el valor activado y el derivado, necesitamos el activado para el forward\n",
        "    out.append((z, a)) # Guardamos todas las combinaciones para poder usar la misma función en el backpropagation\n",
        "  return out"
      ],
      "metadata": {
        "id": "m13RZA9Z5UL7"
      },
      "execution_count": 8,
      "outputs": []
    },
    {
      "cell_type": "markdown",
      "source": [
        "# **Calcular la predicción**"
      ],
      "metadata": {
        "id": "k1UcSBKDP6hY"
      }
    },
    {
      "cell_type": "code",
      "source": [
        "p = 784\n",
        "topologia = [p, 120, 60, 30, 26]\n",
        "red = crear_red(topologia, activation)\n",
        "prediccion = forward(red, X)\n",
        "\n",
        "# La predicción de todos los valores de entrada de X\n",
        "print(prediccion[-1][1])"
      ],
      "metadata": {
        "id": "HOziXgNCQpXT",
        "colab": {
          "base_uri": "https://localhost:8080/"
        },
        "outputId": "898f32ee-091f-488a-8084-eca5a164c263"
      },
      "execution_count": 9,
      "outputs": [
        {
          "output_type": "stream",
          "name": "stdout",
          "text": [
            "              0         1         2         3         4         5         6   \\\n",
            "0       0.254957  0.277402  0.626808  0.964041  0.556665  0.514168  0.983651   \n",
            "1       0.282793  0.297569  0.665047  0.956701  0.616193  0.548061  0.988775   \n",
            "2       0.334736  0.433646  0.662070  0.949912  0.578110  0.428026  0.984407   \n",
            "3       0.328757  0.482728  0.772602  0.911359  0.609107  0.406074  0.978372   \n",
            "4       0.343918  0.492971  0.622754  0.863274  0.834150  0.419501  0.984126   \n",
            "...          ...       ...       ...       ...       ...       ...       ...   \n",
            "372445  0.229241  0.223932  0.717334  0.942529  0.592996  0.367318  0.982946   \n",
            "372446  0.261461  0.309983  0.684285  0.940311  0.698237  0.368835  0.981415   \n",
            "372447  0.277588  0.147504  0.718491  0.951831  0.487192  0.331892  0.982312   \n",
            "372448  0.293807  0.224778  0.687358  0.942163  0.710257  0.315325  0.992243   \n",
            "372449  0.293807  0.224778  0.687358  0.942163  0.710257  0.315325  0.992243   \n",
            "\n",
            "              7         8         9   ...        16        17        18  \\\n",
            "0       0.533644  0.712186  0.978364  ...  0.785695  0.396032  0.569064   \n",
            "1       0.584625  0.770360  0.978707  ...  0.832949  0.332832  0.626979   \n",
            "2       0.512932  0.674679  0.986023  ...  0.547914  0.500464  0.668363   \n",
            "3       0.544186  0.728072  0.980887  ...  0.515730  0.455247  0.695876   \n",
            "4       0.605219  0.855757  0.951799  ...  0.742115  0.522574  0.779322   \n",
            "...          ...       ...       ...  ...       ...       ...       ...   \n",
            "372445  0.589959  0.884859  0.975521  ...  0.784031  0.526663  0.706946   \n",
            "372446  0.671261  0.890152  0.963117  ...  0.725537  0.627069  0.733657   \n",
            "372447  0.644437  0.768250  0.986124  ...  0.744838  0.475681  0.612150   \n",
            "372448  0.515544  0.837420  0.971247  ...  0.765497  0.403960  0.683978   \n",
            "372449  0.515544  0.837420  0.971247  ...  0.765497  0.403960  0.683978   \n",
            "\n",
            "              19        20        21        22        23        24        25  \n",
            "0       0.724025  0.882303  0.036521  0.462693  0.323909  0.794117  0.854435  \n",
            "1       0.556636  0.946275  0.045920  0.441602  0.272172  0.799814  0.868019  \n",
            "2       0.505896  0.754749  0.033190  0.608975  0.413561  0.797182  0.935794  \n",
            "3       0.364533  0.724644  0.032134  0.605167  0.407262  0.795281  0.942753  \n",
            "4       0.470388  0.872120  0.026663  0.302498  0.263885  0.817959  0.787378  \n",
            "...          ...       ...       ...       ...       ...       ...       ...  \n",
            "372445  0.740963  0.910494  0.043058  0.428586  0.181235  0.846266  0.844521  \n",
            "372446  0.719264  0.890188  0.041854  0.428621  0.247521  0.855356  0.884077  \n",
            "372447  0.778225  0.862034  0.053736  0.399045  0.150571  0.835801  0.823198  \n",
            "372448  0.405464  0.896826  0.051646  0.553592  0.300390  0.779418  0.879973  \n",
            "372449  0.405464  0.896826  0.051646  0.553592  0.300390  0.779418  0.879973  \n",
            "\n",
            "[372450 rows x 26 columns]\n"
          ]
        }
      ]
    },
    {
      "cell_type": "markdown",
      "source": [
        "# **Función de coste**"
      ],
      "metadata": {
        "id": "lLFbKY8AR25w"
      }
    },
    {
      "cell_type": "code",
      "source": [
        "def coste(Ypred, Yesp):\n",
        "  return (np.mean((Ypred - Yesp) ** 2), (Ypred - Yesp))"
      ],
      "metadata": {
        "id": "ZrRMpBXnR_16"
      },
      "execution_count": 10,
      "outputs": []
    },
    {
      "cell_type": "markdown",
      "source": [
        "# **Modelo matemático**\n",
        "En forma de algoritmo se utilizan las funciones de propagación 'forward' y 'backward' con el fin de propagar los resultados desde el input hasta el output y así sucesivamente. La clave estará en el descenso del gradiente, la cual nos dará los valores mínimos (coste de entrenamiento)."
      ],
      "metadata": {
        "id": "r7vWoN12b-6v"
      }
    },
    {
      "cell_type": "code",
      "source": [
        "def train(red, X, Y, coste, learning_rate=0.001):\n",
        "  # forward \n",
        "  out = forward(red, X)\n",
        "\n",
        "  # backward pass\n",
        "  delta = []\n",
        "  #for i in range(len(red)-1, -1, -1): # recorrer hacie atrás del largo a 0\n",
        "  for i in reversed(range(0,len(red))):\n",
        "    z = out[i+1][0]\n",
        "    a = out[i+1][1]\n",
        "    if i == len(red)-1:\n",
        "        #delta última capa\n",
        "        delta.insert(0, coste(a, Y)[1] * red[i].activation(a)[1] ) # delta 0 = derivada del coste (osea Ypred - Yesp) * derivada de activación de la capa\n",
        "    else:\n",
        "        # delta respecto al anterior\n",
        "        delta.insert(0, delta[0] @ aux_W.T * red[i].activation(a)[1]) # delta n = delta(n+1) x W(n+1).T * derivada de activación de la capa \n",
        "    aux_W = red[i].W\n",
        "    # Descenso del gradiente\n",
        "    red[i].W = red[i].W - out[i][1].T @ delta[0] * learning_rate # nuevoW[i] = actualW[i] - salida[i].T x delta * learning_rate\n",
        "\n",
        "  return out[-1][1]"
      ],
      "metadata": {
        "id": "ls4Jb2ZkSH0I"
      },
      "execution_count": 11,
      "outputs": []
    },
    {
      "cell_type": "markdown",
      "source": [
        "# **Entrenamiento**\n",
        "Tomando el modelo anterior, se iterará 100 veces con un learning rate del 0.05\n"
      ],
      "metadata": {
        "id": "EexGrTHsWlxj"
      }
    },
    {
      "cell_type": "code",
      "source": [
        "import time \n",
        "from IPython.display import clear_output\n",
        "topologia = [784, 120, 60, 30, 26]\n",
        "red = crear_red(topologia, activation)\n",
        "loss = []\n",
        "\n",
        "for i in range(100):\n",
        "  pY = train(red, X, Y, coste, learning_rate=0.05)\n",
        "  if i % 25 == 0:\n",
        "    costo = coste(pY, Y)[0]\n",
        "    print(f'Coste iteración {i}: {costo}')\n",
        "    loss.append(costo)\n",
        "    \n",
        "\n",
        "    \n",
        "plt.plot(range(len(loss)), loss)\n",
        "plt.show()"
      ],
      "metadata": {
        "id": "CZzDNAKfCQ1p",
        "colab": {
          "base_uri": "https://localhost:8080/",
          "height": 1000
        },
        "outputId": "270b6fa1-9ea1-4858-a30f-3667ef2a9404"
      },
      "execution_count": 12,
      "outputs": [
        {
          "output_type": "stream",
          "name": "stdout",
          "text": [
            "Coste iteración 0: 0     0.565644\n",
            "1     0.904891\n",
            "2     0.331015\n",
            "3     0.658659\n",
            "4     0.347728\n",
            "5     0.133512\n",
            "6     0.081514\n",
            "7     0.483121\n",
            "8     0.875261\n",
            "9     0.888358\n",
            "10    0.243158\n",
            "11    0.505788\n",
            "12    0.032226\n",
            "13    0.717086\n",
            "14    0.537967\n",
            "15    0.696822\n",
            "16    0.211704\n",
            "17    0.148019\n",
            "18    0.743975\n",
            "19    0.069250\n",
            "20    0.217867\n",
            "21    0.540387\n",
            "22    0.120672\n",
            "23    0.441434\n",
            "24    0.555286\n",
            "25    0.026123\n",
            "dtype: float64\n",
            "Coste iteración 25: 0     0.037237\n",
            "1     0.023273\n",
            "2     0.062851\n",
            "3     0.027209\n",
            "4     0.030716\n",
            "5     0.003123\n",
            "6     0.015471\n",
            "7     0.019380\n",
            "8     0.003007\n",
            "9     0.022803\n",
            "10    0.015044\n",
            "11    0.031108\n",
            "12    0.033121\n",
            "13    0.051040\n",
            "14    0.155256\n",
            "15    0.051929\n",
            "16    0.015605\n",
            "17    0.031054\n",
            "18    0.130001\n",
            "19    0.060397\n",
            "20    0.077884\n",
            "21    0.011228\n",
            "22    0.028954\n",
            "23    0.016840\n",
            "24    0.029156\n",
            "25    0.016314\n",
            "dtype: float64\n",
            "Coste iteración 50: 0     0.037237\n",
            "1     0.023273\n",
            "2     0.062851\n",
            "3     0.027209\n",
            "4     0.030716\n",
            "5     0.003123\n",
            "6     0.015471\n",
            "7     0.019380\n",
            "8     0.003007\n",
            "9     0.022803\n",
            "10    0.015044\n",
            "11    0.031108\n",
            "12    0.033121\n",
            "13    0.051040\n",
            "14    0.155256\n",
            "15    0.051929\n",
            "16    0.015605\n",
            "17    0.031054\n",
            "18    0.130001\n",
            "19    0.060397\n",
            "20    0.077884\n",
            "21    0.011228\n",
            "22    0.028954\n",
            "23    0.016840\n",
            "24    0.029156\n",
            "25    0.016314\n",
            "dtype: float64\n",
            "Coste iteración 75: 0     0.037237\n",
            "1     0.023273\n",
            "2     0.062851\n",
            "3     0.027209\n",
            "4     0.030716\n",
            "5     0.003123\n",
            "6     0.015471\n",
            "7     0.019380\n",
            "8     0.003007\n",
            "9     0.022803\n",
            "10    0.015044\n",
            "11    0.031108\n",
            "12    0.033121\n",
            "13    0.051040\n",
            "14    0.155256\n",
            "15    0.051929\n",
            "16    0.015605\n",
            "17    0.031054\n",
            "18    0.130001\n",
            "19    0.060397\n",
            "20    0.077884\n",
            "21    0.011228\n",
            "22    0.028954\n",
            "23    0.016840\n",
            "24    0.029156\n",
            "25    0.016314\n",
            "dtype: float64\n"
          ]
        },
        {
          "output_type": "display_data",
          "data": {
            "text/plain": [
              "<Figure size 432x288 with 1 Axes>"
            ],
            "image/png": "[encoded data removed]"
          },
          "metadata": {
            "needs_background": "light"
          }
        }
      ]
    },
    {
      "cell_type": "markdown",
      "source": [
        "# **Coste de entrenamiento**\n",
        "Como se puede observar en el gráfico el coste se reduce. Cabe destacar que cada letra (A-Z) se representa con un color."
      ],
      "metadata": {
        "id": "i_FhMFnZOFyH"
      }
    }
  ]
}