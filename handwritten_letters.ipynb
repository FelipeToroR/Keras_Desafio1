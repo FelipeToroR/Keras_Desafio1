{
  "cells": [
    {
      "cell_type": "markdown",
      "metadata": {
        "id": "view-in-github",
        "colab_type": "text"
      },
      "source": [
        "<a href=\"https://colab.research.google.com/github/FelipeToroR/Keras_Desafio1/blob/main/handwritten_letters.ipynb\" target=\"_parent\"><img src=\"https://colab.research.google.com/assets/colab-badge.svg\" alt=\"Open In Colab\"/></a>"
      ]
    },
    {
      "cell_type": "code",
      "execution_count": 1,
      "metadata": {
        "id": "OWqL2LVX-IwJ"
      },
      "outputs": [],
      "source": [
        "import keras\n",
        "import pandas as pd\n",
        "import numpy as np\n",
        "import cv2\n",
        "import matplotlib.pyplot as plt\n",
        "from keras.utils.np_utils import to_categorical\n",
        "from sklearn.preprocessing import OneHotEncoder, StandardScaler\n",
        "from sklearn.model_selection import train_test_split\n",
        "from sklearn.utils import shuffle"
      ]
    },
    {
      "cell_type": "code",
      "execution_count": null,
      "metadata": {
        "id": "Y0Pd6Iix-SyE"
      },
      "outputs": [],
      "source": [
        "!git clone https://github.com/OptativoPUCV/Handwritten-letter-dataset"
      ]
    },
    {
      "cell_type": "code",
      "execution_count": 3,
      "metadata": {
        "id": "JyarOFGAdWYT"
      },
      "outputs": [],
      "source": [
        "!mkdir Datos-letras"
      ]
    },
    {
      "cell_type": "code",
      "execution_count": null,
      "metadata": {
        "id": "UQNcsj9SPL2p"
      },
      "outputs": [],
      "source": [
        "!7z x \"/content/Handwritten-letter-dataset/A_Z Handwritten Data.7z.001\" -tsplit\n",
        "!7z e \"/content/A_Z Handwritten Data.7z\""
      ]
    },
    {
      "cell_type": "code",
      "execution_count": 5,
      "metadata": {
        "id": "meN4GRY5c8Md"
      },
      "outputs": [],
      "source": [
        "data = pd.read_csv('A_Z Handwritten Data.csv').astype('float32')"
      ]
    },
    {
      "cell_type": "code",
      "execution_count": 6,
      "metadata": {
        "id": "OWn-N2xW_43K"
      },
      "outputs": [],
      "source": [
        "X = data.drop('0',axis = 1)  # x serán los datos de ENTRADA\n",
        "y = data['0']    # y representa el label o letra de SALIDA"
      ]
    },
    {
      "cell_type": "code",
      "execution_count": 7,
      "metadata": {
        "colab": {
          "base_uri": "https://localhost:8080/"
        },
        "id": "zLMk6OO7_7mN",
        "outputId": "31b6d8f8-4c0e-41f4-f3d2-7c35591c5069"
      },
      "outputs": [
        {
          "output_type": "stream",
          "name": "stdout",
          "text": [
            "(260715, 784)\n",
            "(111735, 784)\n",
            "(111735,)\n"
          ]
        }
      ],
      "source": [
        "# se divide el dataset en 70% 'train' y 30% 'test'\n",
        "x_train, x_test, y_train, y_test = train_test_split(X, y, test_size = 0.3)\n",
        "print(x_train.shape)\n",
        "print(x_test.shape)\n",
        "print(y_test.shape)"
      ]
    },
    {
      "cell_type": "markdown",
      "metadata": {
        "id": "6Kw4Pi0GCWCx"
      },
      "source": [
        "# Remodelando los datos\n",
        "Se utiliza la libreria numpy para transformar nuestros datos y poder trabajar con ellos. Originalmente en el archivo CSV los datos estan en un arreglo de largo 784, pero ahora se convertiran en una imagen de 28x28 pixeles."
      ]
    },
    {
      "cell_type": "code",
      "execution_count": null,
      "metadata": {
        "cellView": "form",
        "colab": {
          "base_uri": "https://localhost:8080/"
        },
        "id": "uLOU0qJNAkwI",
        "outputId": "191fc2f3-1fdc-4ad8-9ce1-f915a3aa54f8"
      },
      "outputs": [
        {
          "name": "stdout",
          "output_type": "stream",
          "text": [
            "El formato de los datos de entrenamiento es:  (260715, 784)\n",
            "El formato de los datos de prueba es (111735, 784)\n"
          ]
        }
      ],
      "source": [
        ""
      ]
    },
    {
      "cell_type": "code",
      "execution_count": 8,
      "metadata": {
        "id": "wl0xyxNQD3lc"
      },
      "outputs": [],
      "source": [
        "shuffle_data = shuffle(x_train)"
      ]
    },
    {
      "cell_type": "markdown",
      "metadata": {
        "id": "bn5nJnAOGsve"
      },
      "source": [
        "## **Se comprueba que los datos se pueden visualizar como imagen**"
      ]
    },
    {
      "cell_type": "code",
      "execution_count": null,
      "metadata": {
        "cellView": "form",
        "id": "I2RCMsjOD3v-"
      },
      "outputs": [],
      "source": [
        ""
      ]
    },
    {
      "cell_type": "markdown",
      "metadata": {
        "id": "539iTP_EI58y"
      },
      "source": [
        "## **Se transforma la imagen 2d a un vector de largo 784 + su etiqueta**"
      ]
    },
    {
      "cell_type": "code",
      "execution_count": null,
      "metadata": {
        "cellView": "form",
        "id": "bKWCgbfgHE7V"
      },
      "outputs": [],
      "source": [
        ""
      ]
    },
    {
      "cell_type": "markdown",
      "metadata": {
        "id": "Rm7btX-BMod8"
      },
      "source": [
        "#**Normalizando valores de entrada entre 0 e 1.** \n",
        "Simplemente se divide en 255 y se obtienen valores que simbolizan 0 para las celdas completamente negras y 1 para las completamente blancas"
      ]
    },
    {
      "cell_type": "code",
      "execution_count": 9,
      "metadata": {
        "id": "GxC41MrZHE9m"
      },
      "outputs": [],
      "source": [
        "x_training = x_train.astype('float32')\n",
        "x_training /= 255\n",
        "\n",
        "x_testing = x_test.astype('float32')\n",
        "x_testing /= 255\n"
      ]
    },
    {
      "cell_type": "markdown",
      "metadata": {
        "id": "4ETJV-BJOuVS"
      },
      "source": [
        "# **Normalizando valores de salida**\n",
        "La salida sera un vector con 26 dimensiones, ya que existen 26 clases en el alfabeto inglés (A-Z)"
      ]
    },
    {
      "cell_type": "code",
      "execution_count": 10,
      "metadata": {
        "id": "c2CBlbdCN3NJ"
      },
      "outputs": [],
      "source": [
        "num_classes = 26\n",
        "\n",
        "y_training = to_categorical(y_train, num_classes)\n",
        "y_testing = to_categorical(y_test, num_classes)\n"
      ]
    },
    {
      "cell_type": "markdown",
      "metadata": {
        "id": "vfpOmCGJYeNX"
      },
      "source": [
        "## **Creación del modelo**\n",
        "Consiste en 784 neuronas de entradas, 2 capas ocultas (de 160 y 10) y la capa de salida consta de las 26 clases de letras."
      ]
    },
    {
      "cell_type": "code",
      "execution_count": null,
      "metadata": {
        "id": "FN5KAcf9N4Z-"
      },
      "outputs": [],
      "source": [
        "from keras.engine import input_spec\n",
        "from keras.models import Sequential\n",
        "from keras.layers import Dense\n",
        "from keras.layers import Dropout\n",
        "\n",
        "modelo = Sequential()\n",
        "modelo.add(Dense(208, input_shape=(784,), activation=\"relu\"))\n",
        "modelo.add(Dense(104, activation=\"relu\"))\n",
        "modelo.add(Dense(52, activation=\"relu\"))\n",
        "modelo.add(Dense(26, activation=\"softmax\"))\n",
        "\n",
        "\n",
        "modelo.summary()"
      ]
    },
    {
      "cell_type": "code",
      "execution_count": 12,
      "metadata": {
        "id": "V5QhdJ-KO0dL"
      },
      "outputs": [],
      "source": [
        "modelo.compile(loss=\"categorical_crossentropy\", optimizer=\"adam\", metrics=[\"accuracy\"])"
      ]
    },
    {
      "cell_type": "code",
      "execution_count": 13,
      "metadata": {
        "colab": {
          "base_uri": "https://localhost:8080/"
        },
        "id": "cUEpcYk_PHZZ",
        "outputId": "9f46432f-1926-4538-b6e2-dea899f63c18"
      },
      "outputs": [
        {
          "output_type": "stream",
          "name": "stdout",
          "text": [
            "Epoch 1/50\n",
            "8148/8148 - 42s - loss: 0.2503 - accuracy: 0.9288 - val_loss: 0.1468 - val_accuracy: 0.9577 - 42s/epoch - 5ms/step\n",
            "Epoch 2/50\n",
            "8148/8148 - 33s - loss: 0.1119 - accuracy: 0.9672 - val_loss: 0.1111 - val_accuracy: 0.9691 - 33s/epoch - 4ms/step\n",
            "Epoch 3/50\n",
            "8148/8148 - 36s - loss: 0.0867 - accuracy: 0.9742 - val_loss: 0.0938 - val_accuracy: 0.9732 - 36s/epoch - 4ms/step\n",
            "Epoch 4/50\n",
            "8148/8148 - 31s - loss: 0.0703 - accuracy: 0.9788 - val_loss: 0.0851 - val_accuracy: 0.9759 - 31s/epoch - 4ms/step\n",
            "Epoch 5/50\n",
            "8148/8148 - 39s - loss: 0.0595 - accuracy: 0.9819 - val_loss: 0.0774 - val_accuracy: 0.9789 - 39s/epoch - 5ms/step\n",
            "Epoch 6/50\n",
            "8148/8148 - 31s - loss: 0.0526 - accuracy: 0.9839 - val_loss: 0.0886 - val_accuracy: 0.9766 - 31s/epoch - 4ms/step\n",
            "Epoch 7/50\n",
            "8148/8148 - 31s - loss: 0.0478 - accuracy: 0.9854 - val_loss: 0.0872 - val_accuracy: 0.9766 - 31s/epoch - 4ms/step\n",
            "Epoch 8/50\n",
            "8148/8148 - 30s - loss: 0.0437 - accuracy: 0.9867 - val_loss: 0.0759 - val_accuracy: 0.9821 - 30s/epoch - 4ms/step\n",
            "Epoch 9/50\n",
            "8148/8148 - 38s - loss: 0.0395 - accuracy: 0.9879 - val_loss: 0.0807 - val_accuracy: 0.9798 - 38s/epoch - 5ms/step\n",
            "Epoch 10/50\n",
            "8148/8148 - 30s - loss: 0.0380 - accuracy: 0.9885 - val_loss: 0.0823 - val_accuracy: 0.9819 - 30s/epoch - 4ms/step\n",
            "Epoch 11/50\n",
            "8148/8148 - 36s - loss: 0.0346 - accuracy: 0.9894 - val_loss: 0.0835 - val_accuracy: 0.9822 - 36s/epoch - 4ms/step\n",
            "Epoch 12/50\n",
            "8148/8148 - 30s - loss: 0.0341 - accuracy: 0.9898 - val_loss: 0.0734 - val_accuracy: 0.9840 - 30s/epoch - 4ms/step\n",
            "Epoch 13/50\n",
            "8148/8148 - 30s - loss: 0.0321 - accuracy: 0.9904 - val_loss: 0.0766 - val_accuracy: 0.9837 - 30s/epoch - 4ms/step\n",
            "Epoch 14/50\n",
            "8148/8148 - 30s - loss: 0.0318 - accuracy: 0.9908 - val_loss: 0.0758 - val_accuracy: 0.9840 - 30s/epoch - 4ms/step\n",
            "Epoch 15/50\n",
            "8148/8148 - 30s - loss: 0.0300 - accuracy: 0.9909 - val_loss: 0.0854 - val_accuracy: 0.9844 - 30s/epoch - 4ms/step\n",
            "Epoch 16/50\n",
            "8148/8148 - 30s - loss: 0.0274 - accuracy: 0.9918 - val_loss: 0.0861 - val_accuracy: 0.9849 - 30s/epoch - 4ms/step\n",
            "Epoch 17/50\n",
            "8148/8148 - 29s - loss: 0.0282 - accuracy: 0.9917 - val_loss: 0.0924 - val_accuracy: 0.9845 - 29s/epoch - 4ms/step\n",
            "Epoch 18/50\n",
            "8148/8148 - 31s - loss: 0.0270 - accuracy: 0.9922 - val_loss: 0.0968 - val_accuracy: 0.9833 - 31s/epoch - 4ms/step\n",
            "Epoch 19/50\n",
            "8148/8148 - 30s - loss: 0.0274 - accuracy: 0.9921 - val_loss: 0.0846 - val_accuracy: 0.9855 - 30s/epoch - 4ms/step\n",
            "Epoch 20/50\n",
            "8148/8148 - 31s - loss: 0.0261 - accuracy: 0.9928 - val_loss: 0.0946 - val_accuracy: 0.9844 - 31s/epoch - 4ms/step\n",
            "Epoch 21/50\n",
            "8148/8148 - 29s - loss: 0.0261 - accuracy: 0.9929 - val_loss: 0.0960 - val_accuracy: 0.9853 - 29s/epoch - 4ms/step\n",
            "Epoch 22/50\n",
            "8148/8148 - 36s - loss: 0.0255 - accuracy: 0.9930 - val_loss: 0.0929 - val_accuracy: 0.9850 - 36s/epoch - 4ms/step\n",
            "Epoch 23/50\n",
            "8148/8148 - 35s - loss: 0.0243 - accuracy: 0.9932 - val_loss: 0.0984 - val_accuracy: 0.9859 - 35s/epoch - 4ms/step\n",
            "Epoch 24/50\n",
            "8148/8148 - 30s - loss: 0.0246 - accuracy: 0.9934 - val_loss: 0.1006 - val_accuracy: 0.9855 - 30s/epoch - 4ms/step\n",
            "Epoch 25/50\n",
            "8148/8148 - 30s - loss: 0.0239 - accuracy: 0.9936 - val_loss: 0.1016 - val_accuracy: 0.9853 - 30s/epoch - 4ms/step\n",
            "Epoch 26/50\n",
            "8148/8148 - 31s - loss: 0.0226 - accuracy: 0.9940 - val_loss: 0.0983 - val_accuracy: 0.9864 - 31s/epoch - 4ms/step\n",
            "Epoch 27/50\n",
            "8148/8148 - 30s - loss: 0.0244 - accuracy: 0.9938 - val_loss: 0.1071 - val_accuracy: 0.9864 - 30s/epoch - 4ms/step\n",
            "Epoch 28/50\n",
            "8148/8148 - 38s - loss: 0.0236 - accuracy: 0.9940 - val_loss: 0.1058 - val_accuracy: 0.9861 - 38s/epoch - 5ms/step\n",
            "Epoch 29/50\n",
            "8148/8148 - 30s - loss: 0.0235 - accuracy: 0.9940 - val_loss: 0.1125 - val_accuracy: 0.9844 - 30s/epoch - 4ms/step\n",
            "Epoch 30/50\n",
            "8148/8148 - 30s - loss: 0.0238 - accuracy: 0.9940 - val_loss: 0.1088 - val_accuracy: 0.9862 - 30s/epoch - 4ms/step\n",
            "Epoch 31/50\n",
            "8148/8148 - 30s - loss: 0.0224 - accuracy: 0.9942 - val_loss: 0.1084 - val_accuracy: 0.9868 - 30s/epoch - 4ms/step\n",
            "Epoch 32/50\n",
            "8148/8148 - 31s - loss: 0.0219 - accuracy: 0.9945 - val_loss: 0.1203 - val_accuracy: 0.9847 - 31s/epoch - 4ms/step\n",
            "Epoch 33/50\n",
            "8148/8148 - 36s - loss: 0.0206 - accuracy: 0.9948 - val_loss: 0.1164 - val_accuracy: 0.9859 - 36s/epoch - 4ms/step\n",
            "Epoch 34/50\n",
            "8148/8148 - 31s - loss: 0.0223 - accuracy: 0.9945 - val_loss: 0.1199 - val_accuracy: 0.9862 - 31s/epoch - 4ms/step\n",
            "Epoch 35/50\n",
            "8148/8148 - 32s - loss: 0.0211 - accuracy: 0.9949 - val_loss: 0.1173 - val_accuracy: 0.9863 - 32s/epoch - 4ms/step\n",
            "Epoch 36/50\n",
            "8148/8148 - 36s - loss: 0.0221 - accuracy: 0.9949 - val_loss: 0.1178 - val_accuracy: 0.9870 - 36s/epoch - 4ms/step\n",
            "Epoch 37/50\n",
            "8148/8148 - 33s - loss: 0.0216 - accuracy: 0.9948 - val_loss: 0.1269 - val_accuracy: 0.9866 - 33s/epoch - 4ms/step\n",
            "Epoch 38/50\n",
            "8148/8148 - 36s - loss: 0.0216 - accuracy: 0.9951 - val_loss: 0.1454 - val_accuracy: 0.9832 - 36s/epoch - 4ms/step\n",
            "Epoch 39/50\n",
            "8148/8148 - 31s - loss: 0.0215 - accuracy: 0.9951 - val_loss: 0.1202 - val_accuracy: 0.9868 - 31s/epoch - 4ms/step\n",
            "Epoch 40/50\n",
            "8148/8148 - 30s - loss: 0.0215 - accuracy: 0.9948 - val_loss: 0.1340 - val_accuracy: 0.9860 - 30s/epoch - 4ms/step\n",
            "Epoch 41/50\n",
            "8148/8148 - 37s - loss: 0.0213 - accuracy: 0.9953 - val_loss: 0.1241 - val_accuracy: 0.9871 - 37s/epoch - 5ms/step\n",
            "Epoch 42/50\n",
            "8148/8148 - 38s - loss: 0.0197 - accuracy: 0.9952 - val_loss: 0.1307 - val_accuracy: 0.9870 - 38s/epoch - 5ms/step\n",
            "Epoch 43/50\n",
            "8148/8148 - 30s - loss: 0.0205 - accuracy: 0.9954 - val_loss: 0.1439 - val_accuracy: 0.9868 - 30s/epoch - 4ms/step\n",
            "Epoch 44/50\n",
            "8148/8148 - 32s - loss: 0.0215 - accuracy: 0.9953 - val_loss: 0.1250 - val_accuracy: 0.9873 - 32s/epoch - 4ms/step\n",
            "Epoch 45/50\n",
            "8148/8148 - 31s - loss: 0.0198 - accuracy: 0.9955 - val_loss: 0.1448 - val_accuracy: 0.9856 - 31s/epoch - 4ms/step\n",
            "Epoch 46/50\n",
            "8148/8148 - 32s - loss: 0.0215 - accuracy: 0.9955 - val_loss: 0.1500 - val_accuracy: 0.9869 - 32s/epoch - 4ms/step\n",
            "Epoch 47/50\n",
            "8148/8148 - 32s - loss: 0.0205 - accuracy: 0.9956 - val_loss: 0.1431 - val_accuracy: 0.9876 - 32s/epoch - 4ms/step\n",
            "Epoch 48/50\n",
            "8148/8148 - 35s - loss: 0.0196 - accuracy: 0.9957 - val_loss: 0.1532 - val_accuracy: 0.9868 - 35s/epoch - 4ms/step\n",
            "Epoch 49/50\n",
            "8148/8148 - 30s - loss: 0.0202 - accuracy: 0.9957 - val_loss: 0.1584 - val_accuracy: 0.9865 - 30s/epoch - 4ms/step\n",
            "Epoch 50/50\n",
            "8148/8148 - 36s - loss: 0.0213 - accuracy: 0.9956 - val_loss: 0.1647 - val_accuracy: 0.9863 - 36s/epoch - 4ms/step\n"
          ]
        }
      ],
      "source": [
        "history = modelo.fit(x_training, y_training, validation_data=(x_testing, y_testing), batch_size=32, epochs=50, verbose=2)"
      ]
    },
    {
      "cell_type": "code",
      "execution_count": 14,
      "metadata": {
        "colab": {
          "base_uri": "https://localhost:8080/",
          "height": 628
        },
        "id": "X9BTW9rxUJvf",
        "outputId": "58811793-1d48-4620-d3bd-3f7bdeb3eb94"
      },
      "outputs": [
        {
          "output_type": "stream",
          "name": "stdout",
          "text": [
            "dict_keys(['loss', 'accuracy', 'val_loss', 'val_accuracy'])\n"
          ]
        },
        {
          "output_type": "display_data",
          "data": {
            "text/plain": [
              "<Figure size 432x288 with 1 Axes>"
            ],
            "image/png": "[encoded data removed]"
          },
          "metadata": {
            "needs_background": "light"
          }
        },
        {
          "output_type": "display_data",
          "data": {
            "text/plain": [
              "<Figure size 432x288 with 1 Axes>"
            ],
            "image/png": "[encoded data removed]"
          },
          "metadata": {
            "needs_background": "light"
          }
        },
        {
          "output_type": "stream",
          "name": "stdout",
          "text": [
            "[INFO] test score - 0.16472959518432617\n",
            "[INFO] test accuracy - 0.98630690574646\n"
          ]
        }
      ],
      "source": [
        "print(history.history.keys())\n",
        "\n",
        "# evaluar el modelo\n",
        "scores = modelo.evaluate(x_testing, y_testing, verbose=0)\n",
        "\n",
        "# Mostrar precision \n",
        "plt.plot(history.history[\"accuracy\"])\n",
        "plt.plot(history.history[\"val_accuracy\"])\n",
        "plt.title(\"Model Accuracy\")\n",
        "plt.xlabel(\"Epoch\")\n",
        "plt.ylabel(\"Accuracy\")\n",
        "plt.legend([\"train\", \"test\"], loc=\"upper left\")\n",
        "plt.show()\n",
        "\n",
        "# Mostrar fallos\n",
        "plt.plot(history.history[\"loss\"])\n",
        "plt.plot(history.history[\"val_loss\"])\n",
        "plt.title(\"Model Loss\")\n",
        "plt.xlabel(\"Epoch\")\n",
        "plt.ylabel(\"Loss\")\n",
        "plt.legend([\"train\", \"test\"], loc=\"upper left\")\n",
        "plt.show()\n",
        "\n",
        "# print the results\n",
        "print(\"[INFO] test score - {}\".format(scores[0]))\n",
        "print(\"[INFO] test accuracy - {}\".format(scores[1]))"
      ]
    }
  ],
  "metadata": {
    "colab": {
      "collapsed_sections": [],
      "name": "handwritten_letters.ipynb",
      "provenance": [],
      "include_colab_link": true
    },
    "kernelspec": {
      "display_name": "Python 3",
      "name": "python3"
    },
    "language_info": {
      "name": "python"
    }
  },
  "nbformat": 4,
  "nbformat_minor": 0
}